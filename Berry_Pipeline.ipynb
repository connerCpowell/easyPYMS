{
 "cells": [
  {
   "cell_type": "markdown",
   "metadata": {},
   "source": [
    "# Weclome to they berry processing pipeline!"
   ]
  },
  {
   "cell_type": "markdown",
   "metadata": {},
   "source": [
    "This pipeline is capable of intaking .cdf files, preprocessing the data which consist of noise reduction, baseline correction and peak identification. This step also produces the .txt files which are used to generate chemical profiles by querying the NIST database using the Windows based MSSEARCH tool.\n",
    "Once peaks have been identified, they are aligned across the varios berry sample to produce a consensus based alignment .csv file. The alignment .csv file is then used to generate a heirarchical cluster analysis."
   ]
  },
  {
   "cell_type": "markdown",
   "metadata": {},
   "source": [
    "## The preprocessing script (berryPipeline.py)\n",
    "\n",
    "This script output three file types:\n",
    "expr - Contains peak data used in the alignment analysis\n",
    "csv/txt - Contains MS data to be queried by the NIST MSSEAECH tool.\n",
    "\n",
    "\n",
    "Command line variables:\n",
    "1. .cdf file directory\n",
    "2. String to break name one (Generally directory where files are located) \n",
    "3. Points (Window size)\n",
    "4. Scan (Number of windows to average)\n",
    "5. Percentage threshold \n",
    "6. Minimum of ions required\n",
    "7. .csv file storage directory\n",
    "8. .expr file storage directory\n"
   ]
  },
  {
   "cell_type": "code",
   "execution_count": 3,
   "metadata": {
    "scrolled": true
   },
   "outputs": [
    {
     "name": "stdout",
     "output_type": "stream",
     "text": [
      "('CDF file directory:', '/workdir2/shared_folder/cpowell/fielTmp/all/jup/')\n",
      "('split:', '/2016_blueberry_gwas/')\n",
      "('Points:', 140)\n",
      "('Scans:', 25)\n",
      "('Percent:', 3)\n",
      "('num. of ions:', 3)\n",
      "('Name_tag:', 'p140s25%3n3')\n",
      "('Storage directory (csv):', '/workdir2/shared_folder/cpowell/expr/jup_nist/')\n",
      "('Storage dir (expr):', '/workdir2/shared_folder/cpowell/expr/jup_expr/')\n",
      "('n1', ['Blue-16-A-1008_518.cdf', 'Blue-16-A-1007_269.cdf', 'Blue-16-A-1005_403.cdf', 'Blue-16-A-1008_392.cdf', 'Blue-16-A-1007_62.cdf', 'Blue-16-A-1005_50.cdf', 'Blue-16-A-1008_145.cdf', 'Blue-16-A-1007_457.cdf', 'Blue-16-A-1005_295.cdf'])\n",
      "('name=', 'Blue-16-A-1008_518.cdf')\n",
      " -> Reading netCDF file '/workdir2/shared_folder/cpowell/fielTmp/all/jup/Blue-16-A-1008_518.cdf'\n",
      "[ 35.93493271  36.82106018  38.10810089 ... 218.32415771 219.34289551\n",
      " 219.91921997]\n"
     ]
    },
    {
     "ename": "KeyboardInterrupt",
     "evalue": "",
     "output_type": "error",
     "traceback": [
      "\u001b[0;31m---------------------------------------------------------------------------\u001b[0m",
      "\u001b[0;31mKeyboardInterrupt\u001b[0m                         Traceback (most recent call last)",
      "\u001b[0;32m/workdir2/cpowell/git/easyPYMS/berryPipe.py\u001b[0m in \u001b[0;36m<module>\u001b[0;34m()\u001b[0m\n\u001b[1;32m    313\u001b[0m \u001b[0;34m\u001b[0m\u001b[0m\n\u001b[1;32m    314\u001b[0m \u001b[0;32mif\u001b[0m \u001b[0m__name__\u001b[0m \u001b[0;34m==\u001b[0m \u001b[0;34m\"__main__\"\u001b[0m\u001b[0;34m:\u001b[0m\u001b[0;34m\u001b[0m\u001b[0m\n\u001b[0;32m--> 315\u001b[0;31m     \u001b[0mmain\u001b[0m\u001b[0;34m(\u001b[0m\u001b[0;34m)\u001b[0m\u001b[0;34m\u001b[0m\u001b[0m\n\u001b[0m",
      "\u001b[0;32m/workdir2/cpowell/git/easyPYMS/berryPipe.py\u001b[0m in \u001b[0;36mmain\u001b[0;34m()\u001b[0m\n\u001b[1;32m    290\u001b[0m         \u001b[0;32mprint\u001b[0m\u001b[0;34m(\u001b[0m\u001b[0;34m'name='\u001b[0m\u001b[0;34m,\u001b[0m \u001b[0mname\u001b[0m\u001b[0;34m)\u001b[0m\u001b[0;34m\u001b[0m\u001b[0m\n\u001b[1;32m    291\u001b[0m         \u001b[0;31m#names.append(name)\u001b[0m\u001b[0;34m\u001b[0m\u001b[0;34m\u001b[0m\u001b[0m\n\u001b[0;32m--> 292\u001b[0;31m         \u001b[0mm_c\u001b[0m \u001b[0;34m=\u001b[0m \u001b[0mmatrix_from_cdf\u001b[0m\u001b[0;34m(\u001b[0m\u001b[0mcdffile\u001b[0m\u001b[0;34m,\u001b[0m \u001b[0mname\u001b[0m\u001b[0;34m)\u001b[0m\u001b[0;34m\u001b[0m\u001b[0m\n\u001b[0m\u001b[1;32m    293\u001b[0m         \u001b[0mmatrixes\u001b[0m\u001b[0;34m.\u001b[0m\u001b[0mappend\u001b[0m\u001b[0;34m(\u001b[0m\u001b[0mm_c\u001b[0m\u001b[0;34m[\u001b[0m\u001b[0;36m0\u001b[0m\u001b[0;34m]\u001b[0m\u001b[0;34m)\u001b[0m\u001b[0;34m\u001b[0m\u001b[0m\n\u001b[1;32m    294\u001b[0m         \u001b[0mnoise\u001b[0m\u001b[0;34m.\u001b[0m\u001b[0mappend\u001b[0m\u001b[0;34m(\u001b[0m\u001b[0mm_c\u001b[0m\u001b[0;34m[\u001b[0m\u001b[0;36m1\u001b[0m\u001b[0;34m]\u001b[0m\u001b[0;34m)\u001b[0m\u001b[0;34m\u001b[0m\u001b[0m\n",
      "\u001b[0;32m/workdir2/cpowell/git/easyPYMS/berryPipe.py\u001b[0m in \u001b[0;36mmatrix_from_cdf\u001b[0;34m(cdffile, name)\u001b[0m\n\u001b[1;32m     43\u001b[0m \u001b[0;34m\u001b[0m\u001b[0m\n\u001b[1;32m     44\u001b[0m \u001b[0;32mdef\u001b[0m \u001b[0mmatrix_from_cdf\u001b[0m\u001b[0;34m(\u001b[0m\u001b[0mcdffile\u001b[0m\u001b[0;34m,\u001b[0m \u001b[0mname\u001b[0m\u001b[0;34m)\u001b[0m\u001b[0;34m:\u001b[0m\u001b[0;34m\u001b[0m\u001b[0m\n\u001b[0;32m---> 45\u001b[0;31m     \u001b[0mdata\u001b[0m \u001b[0;34m=\u001b[0m \u001b[0mANDI_reader\u001b[0m\u001b[0;34m(\u001b[0m\u001b[0mcdffile\u001b[0m\u001b[0;34m)\u001b[0m\u001b[0;34m\u001b[0m\u001b[0m\n\u001b[0m\u001b[1;32m     46\u001b[0m     \u001b[0;31m#print(name)\u001b[0m\u001b[0;34m\u001b[0m\u001b[0;34m\u001b[0m\u001b[0m\n\u001b[1;32m     47\u001b[0m     \u001b[0;31m#data.info()\u001b[0m\u001b[0;34m\u001b[0m\u001b[0;34m\u001b[0m\u001b[0m\n",
      "\u001b[0;32m/workdir2/cpowell/git/easyPYMS/pyms/GCMS/IO/ANDI/Function.pyc\u001b[0m in \u001b[0;36mANDI_reader\u001b[0;34m(file_name)\u001b[0m\n\u001b[1;32m     98\u001b[0m         \u001b[0;31m# new scan\u001b[0m\u001b[0;34m\u001b[0m\u001b[0;34m\u001b[0m\u001b[0m\n\u001b[1;32m     99\u001b[0m         \u001b[0;32melse\u001b[0m\u001b[0;34m:\u001b[0m\u001b[0;34m\u001b[0m\u001b[0m\n\u001b[0;32m--> 100\u001b[0;31m             \u001b[0mscan_list\u001b[0m\u001b[0;34m.\u001b[0m\u001b[0mappend\u001b[0m\u001b[0;34m(\u001b[0m\u001b[0mScan\u001b[0m\u001b[0;34m(\u001b[0m\u001b[0mmass_list\u001b[0m\u001b[0;34m,\u001b[0m \u001b[0mintensity_list\u001b[0m\u001b[0;34m)\u001b[0m\u001b[0;34m)\u001b[0m\u001b[0;34m\u001b[0m\u001b[0m\n\u001b[0m\u001b[1;32m    101\u001b[0m             \u001b[0;31m#print \"Added scan\"\u001b[0m\u001b[0;34m\u001b[0m\u001b[0;34m\u001b[0m\u001b[0m\n\u001b[1;32m    102\u001b[0m             \u001b[0mmass_previous\u001b[0m \u001b[0;34m=\u001b[0m \u001b[0mmass_values\u001b[0m\u001b[0;34m[\u001b[0m\u001b[0mi\u001b[0m \u001b[0;34m+\u001b[0m \u001b[0;36m1\u001b[0m\u001b[0;34m]\u001b[0m\u001b[0;34m\u001b[0m\u001b[0m\n",
      "\u001b[0;32m/workdir2/cpowell/git/easyPYMS/pyms/GCMS/Class.pyc\u001b[0m in \u001b[0;36m__init__\u001b[0;34m(self, mass_list, intensity_list)\u001b[0m\n\u001b[1;32m    510\u001b[0m         \u001b[0mself\u001b[0m\u001b[0;34m.\u001b[0m\u001b[0m__mass_list\u001b[0m \u001b[0;34m=\u001b[0m \u001b[0mmass_list\u001b[0m\u001b[0;34m\u001b[0m\u001b[0m\n\u001b[1;32m    511\u001b[0m         \u001b[0mself\u001b[0m\u001b[0;34m.\u001b[0m\u001b[0m__intensity_list\u001b[0m \u001b[0;34m=\u001b[0m \u001b[0mintensity_list\u001b[0m\u001b[0;34m\u001b[0m\u001b[0m\n\u001b[0;32m--> 512\u001b[0;31m         \u001b[0mself\u001b[0m\u001b[0;34m.\u001b[0m\u001b[0m__min_mass\u001b[0m \u001b[0;34m=\u001b[0m \u001b[0mmin\u001b[0m\u001b[0;34m(\u001b[0m\u001b[0mmass_list\u001b[0m\u001b[0;34m)\u001b[0m\u001b[0;34m\u001b[0m\u001b[0m\n\u001b[0m\u001b[1;32m    513\u001b[0m         \u001b[0mself\u001b[0m\u001b[0;34m.\u001b[0m\u001b[0m__max_mass\u001b[0m \u001b[0;34m=\u001b[0m \u001b[0mmax\u001b[0m\u001b[0;34m(\u001b[0m\u001b[0mmass_list\u001b[0m\u001b[0;34m)\u001b[0m\u001b[0;34m\u001b[0m\u001b[0m\n\u001b[1;32m    514\u001b[0m \u001b[0;34m\u001b[0m\u001b[0m\n",
      "\u001b[0;31mKeyboardInterrupt\u001b[0m: "
     ]
    }
   ],
   "source": [
    "%run -i berryPipe.py \\\n",
    "/workdir2/shared_folder/cpowell/fielTmp/all/jup/ \\\n",
    "/2016_blueberry_gwas/ \\\n",
    "140 \\\n",
    "25 \\\n",
    "3 \\\n",
    "3 \\\n",
    "/workdir2/shared_folder/cpowell/expr/jup_nist/ \\\n",
    "/workdir2/shared_folder/cpowell/expr/jup_expr/ \n"
   ]
  },
  {
   "cell_type": "markdown",
   "metadata": {},
   "source": [
    "## The Alignment script( Salign.py)\n",
    "\n",
    "In this version of the alignment script each sample is aligned without any grouping constaints. Potential groupings might be breeds or berry replicates. \n",
    "\n",
    "Input variables:\n",
    "1. expr directory\n",
    "2. alignment csv output directory \n"
   ]
  },
  {
   "cell_type": "code",
   "execution_count": 1,
   "metadata": {},
   "outputs": [
    {
     "data": {
      "text/plain": [
       "{'BASH_FUNC_module()': '() {  eval `/usr/bin/modulecmd bash $*`\\n}',\n",
       " 'CLICOLOR': '1',\n",
       " 'CONDA_DEFAULT_ENV': 'beta',\n",
       " 'CONDA_EXE': '/workdir2/cpowell/conda/miniconda2/bin/conda',\n",
       " 'CONDA_PREFIX': '/workdir2/cpowell/conda/miniconda2/envs/beta',\n",
       " 'CONDA_PREFIX_1': '/workdir2/cpowell/conda/miniconda2',\n",
       " 'CONDA_PROMPT_MODIFIER': '(beta) ',\n",
       " 'CONDA_PYTHON_EXE': '/workdir2/cpowell/conda/miniconda2/bin/python',\n",
       " 'CONDA_SHLVL': '2',\n",
       " 'CVS_RSH': 'ssh',\n",
       " 'GIT_PAGER': 'cat',\n",
       " 'G_BROKEN_FILENAMES': '1',\n",
       " 'HISTCONTROL': 'ignoredups',\n",
       " 'HISTSIZE': '1000',\n",
       " 'HOME': '/home/cpowell',\n",
       " 'HOSTNAME': 'sjcbiohpc01.driscolls.com',\n",
       " 'JPY_PARENT_PID': '13427',\n",
       " 'LANG': 'en_US.UTF-8',\n",
       " 'LESSOPEN': '||/usr/bin/lesspipe.sh %s',\n",
       " 'LOADEDMODULES': '',\n",
       " 'LOGNAME': 'cpowell',\n",
       " 'LS_COLORS': 'rs=0:di=01;34:ln=01;36:mh=00:pi=40;33:so=01;35:do=01;35:bd=40;33;01:cd=40;33;01:or=40;31;01:mi=01;05;37;41:su=37;41:sg=30;43:ca=30;41:tw=30;42:ow=34;42:st=37;44:ex=01;32:*.tar=01;31:*.tgz=01;31:*.arj=01;31:*.taz=01;31:*.lzh=01;31:*.lzma=01;31:*.tlz=01;31:*.txz=01;31:*.zip=01;31:*.z=01;31:*.Z=01;31:*.dz=01;31:*.gz=01;31:*.lz=01;31:*.xz=01;31:*.bz2=01;31:*.tbz=01;31:*.tbz2=01;31:*.bz=01;31:*.tz=01;31:*.deb=01;31:*.rpm=01;31:*.jar=01;31:*.rar=01;31:*.ace=01;31:*.zoo=01;31:*.cpio=01;31:*.7z=01;31:*.rz=01;31:*.jpg=01;35:*.jpeg=01;35:*.gif=01;35:*.bmp=01;35:*.pbm=01;35:*.pgm=01;35:*.ppm=01;35:*.tga=01;35:*.xbm=01;35:*.xpm=01;35:*.tif=01;35:*.tiff=01;35:*.png=01;35:*.svg=01;35:*.svgz=01;35:*.mng=01;35:*.pcx=01;35:*.mov=01;35:*.mpg=01;35:*.mpeg=01;35:*.m2v=01;35:*.mkv=01;35:*.ogm=01;35:*.mp4=01;35:*.m4v=01;35:*.mp4v=01;35:*.vob=01;35:*.qt=01;35:*.nuv=01;35:*.wmv=01;35:*.asf=01;35:*.rm=01;35:*.rmvb=01;35:*.flc=01;35:*.avi=01;35:*.fli=01;35:*.flv=01;35:*.gl=01;35:*.dl=01;35:*.xcf=01;35:*.xwd=01;35:*.yuv=01;35:*.cgm=01;35:*.emf=01;35:*.axv=01;35:*.anx=01;35:*.ogv=01;35:*.ogx=01;35:*.aac=01;36:*.au=01;36:*.flac=01;36:*.mid=01;36:*.midi=01;36:*.mka=01;36:*.mp3=01;36:*.mpc=01;36:*.ogg=01;36:*.ra=01;36:*.wav=01;36:*.axa=01;36:*.oga=01;36:*.spx=01;36:*.xspf=01;36:',\n",
       " 'MAIL': '/var/spool/mail/cpowell',\n",
       " 'MODULEPATH': '/usr/share/Modules/modulefiles:/etc/modulefiles',\n",
       " 'MODULESHOME': '/usr/share/Modules',\n",
       " 'MPLBACKEND': 'module://ipykernel.pylab.backend_inline',\n",
       " 'OLDPWD': '/home/cpowell',\n",
       " 'PAGER': 'cat',\n",
       " 'PATH': '/workdir2/cpowell/conda/miniconda2/envs/beta/bin:/workdir2/cpowell/conda/miniconda2/condabin:/usr/lib64/qt-3.3/bin:/usr/local/bin:/bin:/usr/bin:/usr/local/sbin:/usr/sbin:/sbin:/home/cpowell/bin:/home/genome/shared/scripts:/home/cpowell/bin',\n",
       " 'PWD': '/workdir2/cpowell/git/easyPYMS',\n",
       " 'QTDIR': '/usr/lib64/qt-3.3',\n",
       " 'QTINC': '/usr/lib64/qt-3.3/include',\n",
       " 'QTLIB': '/usr/lib64/qt-3.3/lib',\n",
       " 'SHELL': '/bin/bash',\n",
       " 'SHLVL': '1',\n",
       " 'SSH_ASKPASS': '/usr/libexec/openssh/gnome-ssh-askpass',\n",
       " 'SSH_CLIENT': '10.10.96.103 50167 22',\n",
       " 'SSH_CONNECTION': '10.10.96.103 50167 10.10.102.129 22',\n",
       " 'SSH_TTY': '/dev/pts/1',\n",
       " 'TERM': 'xterm-color',\n",
       " 'USER': 'cpowell',\n",
       " '_': '/workdir2/cpowell/conda/miniconda2/envs/beta/bin/jupyter',\n",
       " '_CE_CONDA': '',\n",
       " '_CE_M': ''}"
      ]
     },
     "execution_count": 1,
     "metadata": {},
     "output_type": "execute_result"
    }
   ],
   "source": [
    "%env "
   ]
  },
  {
   "cell_type": "code",
   "execution_count": 2,
   "metadata": {},
   "outputs": [
    {
     "name": "stdout",
     "output_type": "stream",
     "text": [
      "HOSTNAME=sjcbiohpc01.driscolls.com\r\n",
      "SHELL=/bin/bash\r\n",
      "TERM=xterm-color\r\n",
      "CLICOLOR=1\r\n",
      "HISTSIZE=1000\r\n",
      "SSH_CLIENT=10.10.96.103 50167 22\r\n",
      "CONDA_SHLVL=2\r\n",
      "CONDA_PROMPT_MODIFIER=(beta) \r\n",
      "QTDIR=/usr/lib64/qt-3.3\r\n",
      "QTINC=/usr/lib64/qt-3.3/include\r\n",
      "SSH_TTY=/dev/pts/1\r\n",
      "USER=cpowell\r\n",
      "LS_COLORS=rs=0:di=01;34:ln=01;36:mh=00:pi=40;33:so=01;35:do=01;35:bd=40;33;01:cd=40;33;01:or=40;31;01:mi=01;05;37;41:su=37;41:sg=30;43:ca=30;41:tw=30;42:ow=34;42:st=37;44:ex=01;32:*.tar=01;31:*.tgz=01;31:*.arj=01;31:*.taz=01;31:*.lzh=01;31:*.lzma=01;31:*.tlz=01;31:*.txz=01;31:*.zip=01;31:*.z=01;31:*.Z=01;31:*.dz=01;31:*.gz=01;31:*.lz=01;31:*.xz=01;31:*.bz2=01;31:*.tbz=01;31:*.tbz2=01;31:*.bz=01;31:*.tz=01;31:*.deb=01;31:*.rpm=01;31:*.jar=01;31:*.rar=01;31:*.ace=01;31:*.zoo=01;31:*.cpio=01;31:*.7z=01;31:*.rz=01;31:*.jpg=01;35:*.jpeg=01;35:*.gif=01;35:*.bmp=01;35:*.pbm=01;35:*.pgm=01;35:*.ppm=01;35:*.tga=01;35:*.xbm=01;35:*.xpm=01;35:*.tif=01;35:*.tiff=01;35:*.png=01;35:*.svg=01;35:*.svgz=01;35:*.mng=01;35:*.pcx=01;35:*.mov=01;35:*.mpg=01;35:*.mpeg=01;35:*.m2v=01;35:*.mkv=01;35:*.ogm=01;35:*.mp4=01;35:*.m4v=01;35:*.mp4v=01;35:*.vob=01;35:*.qt=01;35:*.nuv=01;35:*.wmv=01;35:*.asf=01;35:*.rm=01;35:*.rmvb=01;35:*.flc=01;35:*.avi=01;35:*.fli=01;35:*.flv=01;35:*.gl=01;35:*.dl=01;35:*.xcf=01;35:*.xwd=01;35:*.yuv=01;35:*.cgm=01;35:*.emf=01;35:*.axv=01;35:*.anx=01;35:*.ogv=01;35:*.ogx=01;35:*.aac=01;36:*.au=01;36:*.flac=01;36:*.mid=01;36:*.midi=01;36:*.mka=01;36:*.mp3=01;36:*.mpc=01;36:*.ogg=01;36:*.ra=01;36:*.wav=01;36:*.axa=01;36:*.oga=01;36:*.spx=01;36:*.xspf=01;36:\r\n",
      "CONDA_EXE=/workdir2/cpowell/conda/miniconda2/bin/conda\r\n",
      "JPY_PARENT_PID=13427\r\n",
      "PAGER=cat\r\n",
      "_CE_CONDA=\r\n",
      "CONDA_PREFIX_1=/workdir2/cpowell/conda/miniconda2\r\n",
      "MAIL=/var/spool/mail/cpowell\r\n",
      "PATH=/workdir2/cpowell/conda/miniconda2/envs/beta/bin:/workdir2/cpowell/conda/miniconda2/condabin:/usr/lib64/qt-3.3/bin:/usr/local/bin:/bin:/usr/bin:/usr/local/sbin:/usr/sbin:/sbin:/home/cpowell/bin:/home/genome/shared/scripts:/home/cpowell/bin\r\n",
      "_=/bin/env\r\n",
      "CONDA_PREFIX=/workdir2/cpowell/conda/miniconda2/envs/beta\r\n",
      "PWD=/workdir2/cpowell/git/easyPYMS\r\n",
      "MPLBACKEND=module://ipykernel.pylab.backend_inline\r\n",
      "LANG=en_US.UTF-8\r\n",
      "MODULEPATH=/usr/share/Modules/modulefiles:/etc/modulefiles\r\n",
      "LOADEDMODULES=\r\n",
      "HISTCONTROL=ignoredups\r\n",
      "_CE_M=\r\n",
      "SSH_ASKPASS=/usr/libexec/openssh/gnome-ssh-askpass\r\n",
      "SHLVL=2\r\n",
      "HOME=/home/cpowell\r\n",
      "LOGNAME=cpowell\r\n",
      "CONDA_PYTHON_EXE=/workdir2/cpowell/conda/miniconda2/bin/python\r\n",
      "QTLIB=/usr/lib64/qt-3.3/lib\r\n",
      "CVS_RSH=ssh\r\n",
      "SSH_CONNECTION=10.10.96.103 50167 10.10.102.129 22\r\n",
      "MODULESHOME=/usr/share/Modules\r\n",
      "CONDA_DEFAULT_ENV=beta\r\n",
      "LESSOPEN=||/usr/bin/lesspipe.sh %s\r\n",
      "GIT_PAGER=cat\r\n",
      "G_BROKEN_FILENAMES=1\r\n",
      "BASH_FUNC_module()=() {  eval `/usr/bin/modulecmd bash $*`\r\n",
      "}\r\n"
     ]
    }
   ],
   "source": [
    "!env"
   ]
  },
  {
   "cell_type": "code",
   "execution_count": null,
   "metadata": {},
   "outputs": [],
   "source": [
    "!export LD_LIBRARY_PATH=/opt/glibc-2.14/lib"
   ]
  },
  {
   "cell_type": "code",
   "execution_count": null,
   "metadata": {},
   "outputs": [],
   "source": [
    "%set_env LD_LIBRARY_PATH=/opt/glibc-2.14/lib"
   ]
  },
  {
   "cell_type": "code",
   "execution_count": null,
   "metadata": {},
   "outputs": [],
   "source": [
    "%export LD_LIBRARY_PATH=/opt/glibc-2.14/lib"
   ]
  },
  {
   "cell_type": "code",
   "execution_count": null,
   "metadata": {
    "scrolled": true
   },
   "outputs": [],
   "source": [
    "!env"
   ]
  },
  {
   "cell_type": "code",
   "execution_count": null,
   "metadata": {},
   "outputs": [],
   "source": [
    "%env"
   ]
  },
  {
   "cell_type": "code",
   "execution_count": 4,
   "metadata": {
    "scrolled": true
   },
   "outputs": [
    {
     "ename": "ImportError",
     "evalue": "/lib64/libc.so.6: version `GLIBC_2.14' not found (required by /workdir2/cpowell/conda/miniconda2/envs/beta/lib/python2.7/site-packages/Pycluster/cluster.so)",
     "output_type": "error",
     "traceback": [
      "\u001b[0;31m---------------------------------------------------------------------------\u001b[0m",
      "\u001b[0;31mImportError\u001b[0m                               Traceback (most recent call last)",
      "\u001b[0;32m/workdir2/cpowell/git/easyPYMS/Salign.py\u001b[0m in \u001b[0;36m<module>\u001b[0;34m()\u001b[0m\n\u001b[1;32m      3\u001b[0m \u001b[0;34m\u001b[0m\u001b[0m\n\u001b[1;32m      4\u001b[0m \u001b[0;32mfrom\u001b[0m \u001b[0mpyms\u001b[0m\u001b[0;34m.\u001b[0m\u001b[0mExperiment\u001b[0m\u001b[0;34m.\u001b[0m\u001b[0mIO\u001b[0m \u001b[0;32mimport\u001b[0m \u001b[0mload_expr\u001b[0m\u001b[0;34m\u001b[0m\u001b[0m\n\u001b[0;32m----> 5\u001b[0;31m \u001b[0;32mfrom\u001b[0m \u001b[0mpyms\u001b[0m\u001b[0;34m.\u001b[0m\u001b[0mPeak\u001b[0m\u001b[0;34m.\u001b[0m\u001b[0mList\u001b[0m\u001b[0;34m.\u001b[0m\u001b[0mDPA\u001b[0m\u001b[0;34m.\u001b[0m\u001b[0mClass\u001b[0m \u001b[0;32mimport\u001b[0m \u001b[0mPairwiseAlignment\u001b[0m\u001b[0;34m\u001b[0m\u001b[0m\n\u001b[0m\u001b[1;32m      6\u001b[0m \u001b[0;32mfrom\u001b[0m \u001b[0mpyms\u001b[0m\u001b[0;34m.\u001b[0m\u001b[0mPeak\u001b[0m\u001b[0;34m.\u001b[0m\u001b[0mList\u001b[0m\u001b[0;34m.\u001b[0m\u001b[0mDPA\u001b[0m\u001b[0;34m.\u001b[0m\u001b[0mFunction\u001b[0m \u001b[0;32mimport\u001b[0m \u001b[0malign_with_tree\u001b[0m\u001b[0;34m,\u001b[0m \u001b[0mexprl2alignment\u001b[0m\u001b[0;34m\u001b[0m\u001b[0m\n\u001b[1;32m      7\u001b[0m \u001b[0;34m\u001b[0m\u001b[0m\n",
      "\u001b[0;32m/workdir2/cpowell/git/easyPYMS/pyms/Peak/List/DPA/Class.py\u001b[0m in \u001b[0;36m<module>\u001b[0;34m()\u001b[0m\n\u001b[1;32m     25\u001b[0m \u001b[0;32mimport\u001b[0m \u001b[0mcopy\u001b[0m\u001b[0;34m\u001b[0m\u001b[0m\n\u001b[1;32m     26\u001b[0m \u001b[0;34m\u001b[0m\u001b[0m\n\u001b[0;32m---> 27\u001b[0;31m \u001b[0;32mimport\u001b[0m \u001b[0mnumpy\u001b[0m\u001b[0;34m,\u001b[0m \u001b[0mPycluster\u001b[0m\u001b[0;34m\u001b[0m\u001b[0m\n\u001b[0m\u001b[1;32m     28\u001b[0m \u001b[0;34m\u001b[0m\u001b[0m\n\u001b[1;32m     29\u001b[0m \u001b[0;32mfrom\u001b[0m \u001b[0mpyms\u001b[0m\u001b[0;34m.\u001b[0m\u001b[0mUtils\u001b[0m\u001b[0;34m.\u001b[0m\u001b[0mError\u001b[0m \u001b[0;32mimport\u001b[0m \u001b[0merror\u001b[0m\u001b[0;34m,\u001b[0m \u001b[0mstop\u001b[0m\u001b[0;34m\u001b[0m\u001b[0m\n",
      "\u001b[0;32m/workdir2/cpowell/conda/miniconda2/envs/beta/lib/python2.7/site-packages/Pycluster/__init__.py\u001b[0m in \u001b[0;36m<module>\u001b[0;34m()\u001b[0m\n\u001b[1;32m      1\u001b[0m \u001b[0;32mimport\u001b[0m \u001b[0mnumpy\u001b[0m\u001b[0;34m\u001b[0m\u001b[0m\n\u001b[1;32m      2\u001b[0m \u001b[0;34m\u001b[0m\u001b[0m\n\u001b[0;32m----> 3\u001b[0;31m \u001b[0;32mfrom\u001b[0m \u001b[0mPycluster\u001b[0m\u001b[0;34m.\u001b[0m\u001b[0mcluster\u001b[0m \u001b[0;32mimport\u001b[0m \u001b[0;34m*\u001b[0m\u001b[0;34m\u001b[0m\u001b[0m\n\u001b[0m\u001b[1;32m      4\u001b[0m \u001b[0;34m\u001b[0m\u001b[0m\n\u001b[1;32m      5\u001b[0m \u001b[0;32mdef\u001b[0m \u001b[0m_treesort\u001b[0m\u001b[0;34m(\u001b[0m\u001b[0morder\u001b[0m\u001b[0;34m,\u001b[0m \u001b[0mnodeorder\u001b[0m\u001b[0;34m,\u001b[0m \u001b[0mnodecounts\u001b[0m\u001b[0;34m,\u001b[0m \u001b[0mtree\u001b[0m\u001b[0;34m)\u001b[0m\u001b[0;34m:\u001b[0m\u001b[0;34m\u001b[0m\u001b[0m\n",
      "\u001b[0;31mImportError\u001b[0m: /lib64/libc.so.6: version `GLIBC_2.14' not found (required by /workdir2/cpowell/conda/miniconda2/envs/beta/lib/python2.7/site-packages/Pycluster/cluster.so)"
     ]
    }
   ],
   "source": [
    "%run -i Salign.py \\\n",
    "/workdir2/shared_folder/cpowell/expr/jup_expr/ \\\n",
    "/workdir2/shared_folder/cpowell/expr/jup_nist/"
   ]
  },
  {
   "cell_type": "markdown",
   "metadata": {},
   "source": [
    "## The HCA generator script (scrap.py)\n",
    "\n",
    "Using the aligment .csv file produced in the previous step this script generates a distance matrix to compare each alignment profile in order to generate an HCA.\n",
    "\n",
    "Input variables:\n",
    "1. Alignment .csv file\n"
   ]
  },
  {
   "cell_type": "code",
   "execution_count": null,
   "metadata": {},
   "outputs": [],
   "source": [
    "%run -i scrap.py \\\n",
    "/workdir2/shared_folder/cpowell/expr/jup_nist/2016BG_area.csv\n"
   ]
  },
  {
   "cell_type": "code",
   "execution_count": null,
   "metadata": {},
   "outputs": [],
   "source": []
  }
 ],
 "metadata": {
  "kernelspec": {
   "display_name": "Python 2",
   "language": "python",
   "name": "python2"
  },
  "language_info": {
   "codemirror_mode": {
    "name": "ipython",
    "version": 2
   },
   "file_extension": ".py",
   "mimetype": "text/x-python",
   "name": "python",
   "nbconvert_exporter": "python",
   "pygments_lexer": "ipython2",
   "version": "2.7.17"
  }
 },
 "nbformat": 4,
 "nbformat_minor": 2
}
